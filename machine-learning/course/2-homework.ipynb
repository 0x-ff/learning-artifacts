{
 "cells": [
  {
   "cell_type": "code",
   "execution_count": 9,
   "metadata": {},
   "outputs": [],
   "source": [
    "import pandas as pd\n",
    "%matplotlib inline\n",
    "import seaborn as sns\n",
    "import matplotlib.pyplot as plt\n",
    "import numpy as np\n",
    "\n",
    "df = pd.read_csv('howpop_train.csv')"
   ]
  },
  {
   "cell_type": "code",
   "execution_count": 10,
   "metadata": {},
   "outputs": [
    {
     "data": {
      "text/plain": [
       "(134137, 17)"
      ]
     },
     "execution_count": 10,
     "metadata": {},
     "output_type": "execute_result"
    }
   ],
   "source": [
    "df.shape"
   ]
  },
  {
   "cell_type": "code",
   "execution_count": 11,
   "metadata": {},
   "outputs": [
    {
     "data": {
      "text/html": [
       "<div>\n",
       "<style scoped>\n",
       "    .dataframe tbody tr th:only-of-type {\n",
       "        vertical-align: middle;\n",
       "    }\n",
       "\n",
       "    .dataframe tbody tr th {\n",
       "        vertical-align: top;\n",
       "    }\n",
       "\n",
       "    .dataframe thead th {\n",
       "        text-align: right;\n",
       "    }\n",
       "</style>\n",
       "<table border=\"1\" class=\"dataframe\">\n",
       "  <thead>\n",
       "    <tr style=\"text-align: right;\">\n",
       "      <th></th>\n",
       "      <th>0</th>\n",
       "      <th>1</th>\n",
       "      <th>2</th>\n",
       "    </tr>\n",
       "  </thead>\n",
       "  <tbody>\n",
       "    <tr>\n",
       "      <th>url</th>\n",
       "      <td>https://habrahabr.ru/post/18284/</td>\n",
       "      <td>https://habrahabr.ru/post/18285/</td>\n",
       "      <td>https://habrahabr.ru/post/18286/</td>\n",
       "    </tr>\n",
       "    <tr>\n",
       "      <th>domain</th>\n",
       "      <td>habrahabr.ru</td>\n",
       "      <td>habrahabr.ru</td>\n",
       "      <td>habrahabr.ru</td>\n",
       "    </tr>\n",
       "    <tr>\n",
       "      <th>post_id</th>\n",
       "      <td>18284</td>\n",
       "      <td>18285</td>\n",
       "      <td>18286</td>\n",
       "    </tr>\n",
       "    <tr>\n",
       "      <th>published</th>\n",
       "      <td>2008-01-01 18:19:00</td>\n",
       "      <td>2008-01-01 18:30:00</td>\n",
       "      <td>2008-01-01 18:34:00</td>\n",
       "    </tr>\n",
       "    <tr>\n",
       "      <th>author</th>\n",
       "      <td>@Tapac</td>\n",
       "      <td>@DezmASter</td>\n",
       "      <td>@DezmASter</td>\n",
       "    </tr>\n",
       "    <tr>\n",
       "      <th>flow</th>\n",
       "      <td>develop</td>\n",
       "      <td>design</td>\n",
       "      <td>design</td>\n",
       "    </tr>\n",
       "    <tr>\n",
       "      <th>polling</th>\n",
       "      <td>False</td>\n",
       "      <td>False</td>\n",
       "      <td>False</td>\n",
       "    </tr>\n",
       "    <tr>\n",
       "      <th>content_len</th>\n",
       "      <td>4305</td>\n",
       "      <td>7344</td>\n",
       "      <td>8431</td>\n",
       "    </tr>\n",
       "    <tr>\n",
       "      <th>title</th>\n",
       "      <td>Новогодний подарок блоггерам — WordPress 2.3.2</td>\n",
       "      <td>Сумасшедшие яйца, или сервис для отслеживания ...</td>\n",
       "      <td>Сумасшедшие яйца, или сервис для отслеживания ...</td>\n",
       "    </tr>\n",
       "    <tr>\n",
       "      <th>comments</th>\n",
       "      <td>0</td>\n",
       "      <td>1</td>\n",
       "      <td>47</td>\n",
       "    </tr>\n",
       "    <tr>\n",
       "      <th>favs</th>\n",
       "      <td>0</td>\n",
       "      <td>1</td>\n",
       "      <td>72</td>\n",
       "    </tr>\n",
       "    <tr>\n",
       "      <th>views</th>\n",
       "      <td>236</td>\n",
       "      <td>353</td>\n",
       "      <td>1200</td>\n",
       "    </tr>\n",
       "    <tr>\n",
       "      <th>votes_plus</th>\n",
       "      <td>0</td>\n",
       "      <td>1</td>\n",
       "      <td>45</td>\n",
       "    </tr>\n",
       "    <tr>\n",
       "      <th>votes_minus</th>\n",
       "      <td>0</td>\n",
       "      <td>0</td>\n",
       "      <td>5</td>\n",
       "    </tr>\n",
       "    <tr>\n",
       "      <th>views_lognorm</th>\n",
       "      <td>-0.792687</td>\n",
       "      <td>-0.485214</td>\n",
       "      <td>0.44609</td>\n",
       "    </tr>\n",
       "    <tr>\n",
       "      <th>favs_lognorm</th>\n",
       "      <td>-1.34407</td>\n",
       "      <td>-0.831946</td>\n",
       "      <td>1.79402</td>\n",
       "    </tr>\n",
       "    <tr>\n",
       "      <th>comments_lognorm</th>\n",
       "      <td>-2.43687</td>\n",
       "      <td>-1.87319</td>\n",
       "      <td>0.574656</td>\n",
       "    </tr>\n",
       "  </tbody>\n",
       "</table>\n",
       "</div>"
      ],
      "text/plain": [
       "                                                               0  \\\n",
       "url                             https://habrahabr.ru/post/18284/   \n",
       "domain                                              habrahabr.ru   \n",
       "post_id                                                    18284   \n",
       "published                                    2008-01-01 18:19:00   \n",
       "author                                                    @Tapac   \n",
       "flow                                                     develop   \n",
       "polling                                                    False   \n",
       "content_len                                                 4305   \n",
       "title             Новогодний подарок блоггерам — WordPress 2.3.2   \n",
       "comments                                                       0   \n",
       "favs                                                           0   \n",
       "views                                                        236   \n",
       "votes_plus                                                     0   \n",
       "votes_minus                                                    0   \n",
       "views_lognorm                                          -0.792687   \n",
       "favs_lognorm                                            -1.34407   \n",
       "comments_lognorm                                        -2.43687   \n",
       "\n",
       "                                                                  1  \\\n",
       "url                                https://habrahabr.ru/post/18285/   \n",
       "domain                                                 habrahabr.ru   \n",
       "post_id                                                       18285   \n",
       "published                                       2008-01-01 18:30:00   \n",
       "author                                                   @DezmASter   \n",
       "flow                                                         design   \n",
       "polling                                                       False   \n",
       "content_len                                                    7344   \n",
       "title             Сумасшедшие яйца, или сервис для отслеживания ...   \n",
       "comments                                                          1   \n",
       "favs                                                              1   \n",
       "views                                                           353   \n",
       "votes_plus                                                        1   \n",
       "votes_minus                                                       0   \n",
       "views_lognorm                                             -0.485214   \n",
       "favs_lognorm                                              -0.831946   \n",
       "comments_lognorm                                           -1.87319   \n",
       "\n",
       "                                                                  2  \n",
       "url                                https://habrahabr.ru/post/18286/  \n",
       "domain                                                 habrahabr.ru  \n",
       "post_id                                                       18286  \n",
       "published                                       2008-01-01 18:34:00  \n",
       "author                                                   @DezmASter  \n",
       "flow                                                         design  \n",
       "polling                                                       False  \n",
       "content_len                                                    8431  \n",
       "title             Сумасшедшие яйца, или сервис для отслеживания ...  \n",
       "comments                                                         47  \n",
       "favs                                                             72  \n",
       "views                                                          1200  \n",
       "votes_plus                                                       45  \n",
       "votes_minus                                                       5  \n",
       "views_lognorm                                               0.44609  \n",
       "favs_lognorm                                                1.79402  \n",
       "comments_lognorm                                           0.574656  "
      ]
     },
     "execution_count": 11,
     "metadata": {},
     "output_type": "execute_result"
    }
   ],
   "source": [
    "df.head(3).T"
   ]
  },
  {
   "cell_type": "code",
   "execution_count": 12,
   "metadata": {},
   "outputs": [],
   "source": [
    "df.drop(filter(lambda c: c.endswith('_lognorm'), df.columns), \n",
    "        axis = 1,       # axis = 1: столбцы \n",
    "        inplace = True) # избавляет от необходимости сохранять датасет"
   ]
  },
  {
   "cell_type": "code",
   "execution_count": 13,
   "metadata": {},
   "outputs": [
    {
     "data": {
      "text/html": [
       "<div>\n",
       "<style scoped>\n",
       "    .dataframe tbody tr th:only-of-type {\n",
       "        vertical-align: middle;\n",
       "    }\n",
       "\n",
       "    .dataframe tbody tr th {\n",
       "        vertical-align: top;\n",
       "    }\n",
       "\n",
       "    .dataframe thead th {\n",
       "        text-align: right;\n",
       "    }\n",
       "</style>\n",
       "<table border=\"1\" class=\"dataframe\">\n",
       "  <thead>\n",
       "    <tr style=\"text-align: right;\">\n",
       "      <th></th>\n",
       "      <th>count</th>\n",
       "      <th>mean</th>\n",
       "      <th>std</th>\n",
       "      <th>min</th>\n",
       "      <th>25%</th>\n",
       "      <th>50%</th>\n",
       "      <th>75%</th>\n",
       "      <th>max</th>\n",
       "    </tr>\n",
       "  </thead>\n",
       "  <tbody>\n",
       "    <tr>\n",
       "      <th>post_id</th>\n",
       "      <td>134137.0</td>\n",
       "      <td>181307.054265</td>\n",
       "      <td>81766.350702</td>\n",
       "      <td>18284.0</td>\n",
       "      <td>115565.0</td>\n",
       "      <td>182666.0</td>\n",
       "      <td>257401.0</td>\n",
       "      <td>314088.0</td>\n",
       "    </tr>\n",
       "    <tr>\n",
       "      <th>content_len</th>\n",
       "      <td>134137.0</td>\n",
       "      <td>7516.929699</td>\n",
       "      <td>8724.771640</td>\n",
       "      <td>1.0</td>\n",
       "      <td>2179.0</td>\n",
       "      <td>4949.0</td>\n",
       "      <td>9858.0</td>\n",
       "      <td>352471.0</td>\n",
       "    </tr>\n",
       "    <tr>\n",
       "      <th>comments</th>\n",
       "      <td>134137.0</td>\n",
       "      <td>39.625994</td>\n",
       "      <td>62.398958</td>\n",
       "      <td>0.0</td>\n",
       "      <td>7.0</td>\n",
       "      <td>19.0</td>\n",
       "      <td>48.0</td>\n",
       "      <td>2266.0</td>\n",
       "    </tr>\n",
       "    <tr>\n",
       "      <th>favs</th>\n",
       "      <td>134137.0</td>\n",
       "      <td>71.999866</td>\n",
       "      <td>145.854135</td>\n",
       "      <td>0.0</td>\n",
       "      <td>8.0</td>\n",
       "      <td>27.0</td>\n",
       "      <td>78.0</td>\n",
       "      <td>8718.0</td>\n",
       "    </tr>\n",
       "    <tr>\n",
       "      <th>views</th>\n",
       "      <td>134137.0</td>\n",
       "      <td>16631.013084</td>\n",
       "      <td>31479.819691</td>\n",
       "      <td>3.0</td>\n",
       "      <td>2100.0</td>\n",
       "      <td>7600.0</td>\n",
       "      <td>18700.0</td>\n",
       "      <td>1730000.0</td>\n",
       "    </tr>\n",
       "    <tr>\n",
       "      <th>votes_plus</th>\n",
       "      <td>133566.0</td>\n",
       "      <td>35.536888</td>\n",
       "      <td>42.461073</td>\n",
       "      <td>0.0</td>\n",
       "      <td>11.0</td>\n",
       "      <td>22.0</td>\n",
       "      <td>45.0</td>\n",
       "      <td>1466.0</td>\n",
       "    </tr>\n",
       "    <tr>\n",
       "      <th>votes_minus</th>\n",
       "      <td>133566.0</td>\n",
       "      <td>8.050035</td>\n",
       "      <td>11.398282</td>\n",
       "      <td>0.0</td>\n",
       "      <td>2.0</td>\n",
       "      <td>5.0</td>\n",
       "      <td>10.0</td>\n",
       "      <td>445.0</td>\n",
       "    </tr>\n",
       "  </tbody>\n",
       "</table>\n",
       "</div>"
      ],
      "text/plain": [
       "                count           mean           std      min       25%  \\\n",
       "post_id      134137.0  181307.054265  81766.350702  18284.0  115565.0   \n",
       "content_len  134137.0    7516.929699   8724.771640      1.0    2179.0   \n",
       "comments     134137.0      39.625994     62.398958      0.0       7.0   \n",
       "favs         134137.0      71.999866    145.854135      0.0       8.0   \n",
       "views        134137.0   16631.013084  31479.819691      3.0    2100.0   \n",
       "votes_plus   133566.0      35.536888     42.461073      0.0      11.0   \n",
       "votes_minus  133566.0       8.050035     11.398282      0.0       2.0   \n",
       "\n",
       "                  50%       75%        max  \n",
       "post_id      182666.0  257401.0   314088.0  \n",
       "content_len    4949.0    9858.0   352471.0  \n",
       "comments         19.0      48.0     2266.0  \n",
       "favs             27.0      78.0     8718.0  \n",
       "views          7600.0   18700.0  1730000.0  \n",
       "votes_plus       22.0      45.0     1466.0  \n",
       "votes_minus       5.0      10.0      445.0  "
      ]
     },
     "execution_count": 13,
     "metadata": {},
     "output_type": "execute_result"
    }
   ],
   "source": [
    "df.describe().T"
   ]
  },
  {
   "cell_type": "code",
   "execution_count": 14,
   "metadata": {},
   "outputs": [],
   "source": [
    "# настройка внешнего вида графиков в seaborn\n",
    "sns.set_style(\"dark\")\n",
    "sns.set_palette(\"RdBu\")\n",
    "sns.set_context(\"notebook\", font_scale = 1.5, \n",
    "                rc = { \"figure.figsize\" : (15, 5), \"axes.titlesize\" : 18 })"
   ]
  },
  {
   "cell_type": "code",
   "execution_count": 15,
   "metadata": {},
   "outputs": [
    {
     "name": "stdout",
     "output_type": "stream",
     "text": [
      "object\n",
      "datetime64[ns]\n"
     ]
    }
   ],
   "source": [
    "print(df.published.dtype)\n",
    "df['published'] = pd.to_datetime(df.published, yearfirst = True)\n",
    "print(df.published.dtype)"
   ]
  },
  {
   "cell_type": "code",
   "execution_count": 45,
   "metadata": {},
   "outputs": [],
   "source": [
    "df['year'] = [d.year for d in df.published]\n",
    "df['month'] = [d.month for d in df.published]\n",
    "df['day'] = [d.day for d in df.published]\n",
    "\n",
    "df['dayofweek'] = [d.isoweekday() for d in df.published]\n",
    "df['hour'] = [d.hour for d in df.published]"
   ]
  },
  {
   "cell_type": "code",
   "execution_count": 46,
   "metadata": {},
   "outputs": [
    {
     "data": {
      "text/plain": [
       "<matplotlib.axes._subplots.AxesSubplot at 0x121a874e0>"
      ]
     },
     "execution_count": 46,
     "metadata": {},
     "output_type": "execute_result"
    },
    {
     "data": {
      "image/png": "[encoded data removed]",
      "text/plain": [
       "<Figure size 432x288 with 1 Axes>"
      ]
     },
     "metadata": {},
     "output_type": "display_data"
    }
   ],
   "source": [
    "df[df['year'] >= 2015].groupby(['year', 'month'])[['post_id']].count().plot(kind='bar')"
   ]
  },
  {
   "cell_type": "code",
   "execution_count": 48,
   "metadata": {},
   "outputs": [
    {
     "data": {
      "text/plain": [
       "<matplotlib.axes._subplots.AxesSubplot at 0x121803d68>"
      ]
     },
     "execution_count": 48,
     "metadata": {},
     "output_type": "execute_result"
    },
    {
     "data": {
      "image/png": "[encoded data removed]",
      "text/plain": [
       "<Figure size 432x288 with 1 Axes>"
      ]
     },
     "metadata": {},
     "output_type": "display_data"
    }
   ],
   "source": [
    "df[(df['year'] == 2015) & (df['month'] == 3)].groupby(['day'])[['post_id']].count().plot(kind='bar')"
   ]
  },
  {
   "cell_type": "code",
   "execution_count": 51,
   "metadata": {},
   "outputs": [
    {
     "data": {
      "text/plain": [
       "<matplotlib.axes._subplots.AxesSubplot at 0x122c38898>"
      ]
     },
     "execution_count": 51,
     "metadata": {},
     "output_type": "execute_result"
    },
    {
     "data": {
      "image/png": "[encoded data removed]",
      "text/plain": [
       "<Figure size 432x288 with 1 Axes>"
      ]
     },
     "metadata": {},
     "output_type": "display_data"
    }
   ],
   "source": [
    "df.groupby(['hour'])[['comments']].max().plot(kind='bar')"
   ]
  },
  {
   "cell_type": "code",
   "execution_count": 52,
   "metadata": {},
   "outputs": [
    {
     "data": {
      "text/plain": [
       "<matplotlib.axes._subplots.AxesSubplot at 0x1232036a0>"
      ]
     },
     "execution_count": 52,
     "metadata": {},
     "output_type": "execute_result"
    },
    {
     "data": {
      "image/png": "[encoded data removed]",
      "text/plain": [
       "<Figure size 432x288 with 1 Axes>"
      ]
     },
     "metadata": {},
     "output_type": "display_data"
    }
   ],
   "source": [
    "df.groupby(['hour'])[['views']].max().plot(kind='bar')"
   ]
  },
  {
   "cell_type": "code",
   "execution_count": 58,
   "metadata": {},
   "outputs": [
    {
     "data": {
      "text/plain": [
       "author\n",
       "@gudoshi                  0\n",
       "@ptizza                   0\n",
       "@little_mouse             0\n",
       "@Vertexodessa             0\n",
       "@sergeantha               0\n",
       "@Novoselzev               0\n",
       "@whiskey                  0\n",
       "@Torwald                  0\n",
       "@emendz                   0\n",
       "@BrainInTheBox            0\n",
       "@nicothin                 0\n",
       "@GMM                      0\n",
       "@dreend5                  0\n",
       "@amxm                     0\n",
       "@pixelmixer               0\n",
       "@doobrik                  0\n",
       "@Selassie                 0\n",
       "@Trave                    0\n",
       "@Mobody                   0\n",
       "@averkin                  0\n",
       "@DeNix                    0\n",
       "@ailarre                  0\n",
       "@helios                   0\n",
       "@Apocalepse               0\n",
       "@cvss                     0\n",
       "@ttf                      0\n",
       "@MagNomeTik               0\n",
       "@djvust                   0\n",
       "@Doggy                    0\n",
       "@alexander_moiseyev       0\n",
       "                       ... \n",
       "@sashaeve               134\n",
       "@ValdikSS               135\n",
       "@sunnybear              142\n",
       "@frekenbok              144\n",
       "@Shpankov               147\n",
       "@spmbt                  147\n",
       "@RoboForm               148\n",
       "@Boomburum              162\n",
       "@Zelenyikot             166\n",
       "@Jeditobe               181\n",
       "@azazelis               181\n",
       "@Sterhel                191\n",
       "@lozga                  200\n",
       "@jasiejames             213\n",
       "@andorro                278\n",
       "@Tylerskald             432\n",
       "@ragequit               444\n",
       "@atomlib                451\n",
       "@ilya42                 512\n",
       "@Shapelez               533\n",
       "@Mordatyj               543\n",
       "@Mithgol                555\n",
       "@XaocCPS                596\n",
       "@aleksandrit            631\n",
       "@jeston                1059\n",
       "@semen_grinshtein      1171\n",
       "@ivansychev            1350\n",
       "@SLY_G                 1939\n",
       "@marks                 4709\n",
       "@alizar                5264\n",
       "Name: votes_minus, Length: 22077, dtype: int64"
      ]
     },
     "execution_count": 58,
     "metadata": {},
     "output_type": "execute_result"
    }
   ],
   "source": [
    "df.groupby(['author'])['votes_minus'].count().sort_values()"
   ]
  },
  {
   "cell_type": "code",
   "execution_count": 59,
   "metadata": {},
   "outputs": [
    {
     "data": {
      "text/plain": [
       "<matplotlib.axes._subplots.AxesSubplot at 0x123315c18>"
      ]
     },
     "execution_count": 59,
     "metadata": {},
     "output_type": "execute_result"
    },
    {
     "data": {
      "image/png": "[encoded data removed]",
      "text/plain": [
       "<Figure size 432x288 with 1 Axes>"
      ]
     },
     "metadata": {},
     "output_type": "display_data"
    }
   ],
   "source": [
    "df.groupby(['dayofweek'])[['post_id']].count().plot(kind='bar')"
   ]
  },
  {
   "cell_type": "code",
   "execution_count": null,
   "metadata": {},
   "outputs": [],
   "source": []
  }
 ],
 "metadata": {
  "kernelspec": {
   "display_name": "Python 3",
   "language": "python",
   "name": "python3"
  },
  "language_info": {
   "codemirror_mode": {
    "name": "ipython",
    "version": 3
   },
   "file_extension": ".py",
   "mimetype": "text/x-python",
   "name": "python",
   "nbconvert_exporter": "python",
   "pygments_lexer": "ipython3",
   "version": "3.7.2"
  }
 },
 "nbformat": 4,
 "nbformat_minor": 2
}
